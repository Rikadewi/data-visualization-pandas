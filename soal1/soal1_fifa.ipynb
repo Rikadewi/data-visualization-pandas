{
 "cells": [
  {
   "cell_type": "code",
   "execution_count": 2,
   "metadata": {
    "scrolled": true
   },
   "outputs": [
    {
     "data": {
      "text/html": [
       "<div>\n",
       "<style scoped>\n",
       "    .dataframe tbody tr th:only-of-type {\n",
       "        vertical-align: middle;\n",
       "    }\n",
       "\n",
       "    .dataframe tbody tr th {\n",
       "        vertical-align: top;\n",
       "    }\n",
       "\n",
       "    .dataframe thead th {\n",
       "        text-align: right;\n",
       "    }\n",
       "</style>\n",
       "<table border=\"1\" class=\"dataframe\">\n",
       "  <thead>\n",
       "    <tr style=\"text-align: right;\">\n",
       "      <th></th>\n",
       "      <th>Name</th>\n",
       "      <th>Age</th>\n",
       "      <th>Nationality</th>\n",
       "    </tr>\n",
       "  </thead>\n",
       "  <tbody>\n",
       "    <tr>\n",
       "      <th>0</th>\n",
       "      <td>L. Messi</td>\n",
       "      <td>31</td>\n",
       "      <td>Argentina</td>\n",
       "    </tr>\n",
       "    <tr>\n",
       "      <th>1</th>\n",
       "      <td>Cristiano Ronaldo</td>\n",
       "      <td>33</td>\n",
       "      <td>Portugal</td>\n",
       "    </tr>\n",
       "    <tr>\n",
       "      <th>2</th>\n",
       "      <td>Neymar Jr</td>\n",
       "      <td>26</td>\n",
       "      <td>Brazil</td>\n",
       "    </tr>\n",
       "    <tr>\n",
       "      <th>3</th>\n",
       "      <td>De Gea</td>\n",
       "      <td>27</td>\n",
       "      <td>Spain</td>\n",
       "    </tr>\n",
       "    <tr>\n",
       "      <th>4</th>\n",
       "      <td>K. De Bruyne</td>\n",
       "      <td>27</td>\n",
       "      <td>Belgium</td>\n",
       "    </tr>\n",
       "    <tr>\n",
       "      <th>5</th>\n",
       "      <td>E. Hazard</td>\n",
       "      <td>27</td>\n",
       "      <td>Belgium</td>\n",
       "    </tr>\n",
       "    <tr>\n",
       "      <th>6</th>\n",
       "      <td>L. Modrić</td>\n",
       "      <td>32</td>\n",
       "      <td>Croatia</td>\n",
       "    </tr>\n",
       "    <tr>\n",
       "      <th>7</th>\n",
       "      <td>L. Suárez</td>\n",
       "      <td>31</td>\n",
       "      <td>Uruguay</td>\n",
       "    </tr>\n",
       "    <tr>\n",
       "      <th>8</th>\n",
       "      <td>Sergio Ramos</td>\n",
       "      <td>32</td>\n",
       "      <td>Spain</td>\n",
       "    </tr>\n",
       "    <tr>\n",
       "      <th>9</th>\n",
       "      <td>J. Oblak</td>\n",
       "      <td>25</td>\n",
       "      <td>Slovenia</td>\n",
       "    </tr>\n",
       "    <tr>\n",
       "      <th>10</th>\n",
       "      <td>R. Lewandowski</td>\n",
       "      <td>29</td>\n",
       "      <td>Poland</td>\n",
       "    </tr>\n",
       "    <tr>\n",
       "      <th>11</th>\n",
       "      <td>T. Kroos</td>\n",
       "      <td>28</td>\n",
       "      <td>Germany</td>\n",
       "    </tr>\n",
       "    <tr>\n",
       "      <th>12</th>\n",
       "      <td>D. Godín</td>\n",
       "      <td>32</td>\n",
       "      <td>Uruguay</td>\n",
       "    </tr>\n",
       "    <tr>\n",
       "      <th>13</th>\n",
       "      <td>David Silva</td>\n",
       "      <td>32</td>\n",
       "      <td>Spain</td>\n",
       "    </tr>\n",
       "    <tr>\n",
       "      <th>14</th>\n",
       "      <td>N. Kanté</td>\n",
       "      <td>27</td>\n",
       "      <td>France</td>\n",
       "    </tr>\n",
       "    <tr>\n",
       "      <th>15</th>\n",
       "      <td>P. Dybala</td>\n",
       "      <td>24</td>\n",
       "      <td>Argentina</td>\n",
       "    </tr>\n",
       "    <tr>\n",
       "      <th>16</th>\n",
       "      <td>H. Kane</td>\n",
       "      <td>24</td>\n",
       "      <td>England</td>\n",
       "    </tr>\n",
       "    <tr>\n",
       "      <th>17</th>\n",
       "      <td>A. Griezmann</td>\n",
       "      <td>27</td>\n",
       "      <td>France</td>\n",
       "    </tr>\n",
       "    <tr>\n",
       "      <th>18</th>\n",
       "      <td>M. ter Stegen</td>\n",
       "      <td>26</td>\n",
       "      <td>Germany</td>\n",
       "    </tr>\n",
       "    <tr>\n",
       "      <th>19</th>\n",
       "      <td>T. Courtois</td>\n",
       "      <td>26</td>\n",
       "      <td>Belgium</td>\n",
       "    </tr>\n",
       "    <tr>\n",
       "      <th>20</th>\n",
       "      <td>Sergio Busquets</td>\n",
       "      <td>29</td>\n",
       "      <td>Spain</td>\n",
       "    </tr>\n",
       "    <tr>\n",
       "      <th>21</th>\n",
       "      <td>E. Cavani</td>\n",
       "      <td>31</td>\n",
       "      <td>Uruguay</td>\n",
       "    </tr>\n",
       "    <tr>\n",
       "      <th>22</th>\n",
       "      <td>M. Neuer</td>\n",
       "      <td>32</td>\n",
       "      <td>Germany</td>\n",
       "    </tr>\n",
       "    <tr>\n",
       "      <th>23</th>\n",
       "      <td>S. Agüero</td>\n",
       "      <td>30</td>\n",
       "      <td>Argentina</td>\n",
       "    </tr>\n",
       "    <tr>\n",
       "      <th>24</th>\n",
       "      <td>G. Chiellini</td>\n",
       "      <td>33</td>\n",
       "      <td>Italy</td>\n",
       "    </tr>\n",
       "    <tr>\n",
       "      <th>25</th>\n",
       "      <td>K. Mbappé</td>\n",
       "      <td>19</td>\n",
       "      <td>France</td>\n",
       "    </tr>\n",
       "    <tr>\n",
       "      <th>26</th>\n",
       "      <td>M. Salah</td>\n",
       "      <td>26</td>\n",
       "      <td>Egypt</td>\n",
       "    </tr>\n",
       "    <tr>\n",
       "      <th>27</th>\n",
       "      <td>Casemiro</td>\n",
       "      <td>26</td>\n",
       "      <td>Brazil</td>\n",
       "    </tr>\n",
       "    <tr>\n",
       "      <th>28</th>\n",
       "      <td>J. Rodríguez</td>\n",
       "      <td>26</td>\n",
       "      <td>Colombia</td>\n",
       "    </tr>\n",
       "    <tr>\n",
       "      <th>29</th>\n",
       "      <td>L. Insigne</td>\n",
       "      <td>27</td>\n",
       "      <td>Italy</td>\n",
       "    </tr>\n",
       "    <tr>\n",
       "      <th>...</th>\n",
       "      <td>...</td>\n",
       "      <td>...</td>\n",
       "      <td>...</td>\n",
       "    </tr>\n",
       "    <tr>\n",
       "      <th>18177</th>\n",
       "      <td>R. Roache</td>\n",
       "      <td>18</td>\n",
       "      <td>Republic of Ireland</td>\n",
       "    </tr>\n",
       "    <tr>\n",
       "      <th>18178</th>\n",
       "      <td>L. Wahlstedt</td>\n",
       "      <td>18</td>\n",
       "      <td>Sweden</td>\n",
       "    </tr>\n",
       "    <tr>\n",
       "      <th>18179</th>\n",
       "      <td>J. Williams</td>\n",
       "      <td>17</td>\n",
       "      <td>England</td>\n",
       "    </tr>\n",
       "    <tr>\n",
       "      <th>18180</th>\n",
       "      <td>M. Hurst</td>\n",
       "      <td>22</td>\n",
       "      <td>Scotland</td>\n",
       "    </tr>\n",
       "    <tr>\n",
       "      <th>18181</th>\n",
       "      <td>C. Maher</td>\n",
       "      <td>17</td>\n",
       "      <td>Republic of Ireland</td>\n",
       "    </tr>\n",
       "    <tr>\n",
       "      <th>18182</th>\n",
       "      <td>Y. Góez</td>\n",
       "      <td>18</td>\n",
       "      <td>Colombia</td>\n",
       "    </tr>\n",
       "    <tr>\n",
       "      <th>18183</th>\n",
       "      <td>K. Pilkington</td>\n",
       "      <td>44</td>\n",
       "      <td>England</td>\n",
       "    </tr>\n",
       "    <tr>\n",
       "      <th>18184</th>\n",
       "      <td>D. Horton</td>\n",
       "      <td>18</td>\n",
       "      <td>England</td>\n",
       "    </tr>\n",
       "    <tr>\n",
       "      <th>18185</th>\n",
       "      <td>E. Tweed</td>\n",
       "      <td>19</td>\n",
       "      <td>Republic of Ireland</td>\n",
       "    </tr>\n",
       "    <tr>\n",
       "      <th>18186</th>\n",
       "      <td>Zhang Yufeng</td>\n",
       "      <td>20</td>\n",
       "      <td>China PR</td>\n",
       "    </tr>\n",
       "    <tr>\n",
       "      <th>18187</th>\n",
       "      <td>C. Ehlich</td>\n",
       "      <td>19</td>\n",
       "      <td>Germany</td>\n",
       "    </tr>\n",
       "    <tr>\n",
       "      <th>18188</th>\n",
       "      <td>L. Collins</td>\n",
       "      <td>17</td>\n",
       "      <td>Wales</td>\n",
       "    </tr>\n",
       "    <tr>\n",
       "      <th>18189</th>\n",
       "      <td>A. Kaltner</td>\n",
       "      <td>18</td>\n",
       "      <td>Germany</td>\n",
       "    </tr>\n",
       "    <tr>\n",
       "      <th>18190</th>\n",
       "      <td>L. Watkins</td>\n",
       "      <td>18</td>\n",
       "      <td>England</td>\n",
       "    </tr>\n",
       "    <tr>\n",
       "      <th>18191</th>\n",
       "      <td>J. Norville-Williams</td>\n",
       "      <td>18</td>\n",
       "      <td>England</td>\n",
       "    </tr>\n",
       "    <tr>\n",
       "      <th>18192</th>\n",
       "      <td>S. Squire</td>\n",
       "      <td>18</td>\n",
       "      <td>England</td>\n",
       "    </tr>\n",
       "    <tr>\n",
       "      <th>18193</th>\n",
       "      <td>N. Fuentes</td>\n",
       "      <td>18</td>\n",
       "      <td>Chile</td>\n",
       "    </tr>\n",
       "    <tr>\n",
       "      <th>18194</th>\n",
       "      <td>J. Milli</td>\n",
       "      <td>18</td>\n",
       "      <td>Italy</td>\n",
       "    </tr>\n",
       "    <tr>\n",
       "      <th>18195</th>\n",
       "      <td>S. Griffin</td>\n",
       "      <td>18</td>\n",
       "      <td>Republic of Ireland</td>\n",
       "    </tr>\n",
       "    <tr>\n",
       "      <th>18196</th>\n",
       "      <td>K. Fujikawa</td>\n",
       "      <td>19</td>\n",
       "      <td>Japan</td>\n",
       "    </tr>\n",
       "    <tr>\n",
       "      <th>18197</th>\n",
       "      <td>D. Holland</td>\n",
       "      <td>18</td>\n",
       "      <td>Republic of Ireland</td>\n",
       "    </tr>\n",
       "    <tr>\n",
       "      <th>18198</th>\n",
       "      <td>J. Livesey</td>\n",
       "      <td>18</td>\n",
       "      <td>England</td>\n",
       "    </tr>\n",
       "    <tr>\n",
       "      <th>18199</th>\n",
       "      <td>M. Baldisimo</td>\n",
       "      <td>18</td>\n",
       "      <td>Canada</td>\n",
       "    </tr>\n",
       "    <tr>\n",
       "      <th>18200</th>\n",
       "      <td>J. Young</td>\n",
       "      <td>18</td>\n",
       "      <td>Scotland</td>\n",
       "    </tr>\n",
       "    <tr>\n",
       "      <th>18201</th>\n",
       "      <td>D. Walsh</td>\n",
       "      <td>18</td>\n",
       "      <td>Republic of Ireland</td>\n",
       "    </tr>\n",
       "    <tr>\n",
       "      <th>18202</th>\n",
       "      <td>J. Lundstram</td>\n",
       "      <td>19</td>\n",
       "      <td>England</td>\n",
       "    </tr>\n",
       "    <tr>\n",
       "      <th>18203</th>\n",
       "      <td>N. Christoffersson</td>\n",
       "      <td>19</td>\n",
       "      <td>Sweden</td>\n",
       "    </tr>\n",
       "    <tr>\n",
       "      <th>18204</th>\n",
       "      <td>B. Worman</td>\n",
       "      <td>16</td>\n",
       "      <td>England</td>\n",
       "    </tr>\n",
       "    <tr>\n",
       "      <th>18205</th>\n",
       "      <td>D. Walker-Rice</td>\n",
       "      <td>17</td>\n",
       "      <td>England</td>\n",
       "    </tr>\n",
       "    <tr>\n",
       "      <th>18206</th>\n",
       "      <td>G. Nugent</td>\n",
       "      <td>16</td>\n",
       "      <td>England</td>\n",
       "    </tr>\n",
       "  </tbody>\n",
       "</table>\n",
       "<p>18207 rows × 3 columns</p>\n",
       "</div>"
      ],
      "text/plain": [
       "                       Name  Age          Nationality\n",
       "0                  L. Messi   31            Argentina\n",
       "1         Cristiano Ronaldo   33             Portugal\n",
       "2                 Neymar Jr   26               Brazil\n",
       "3                    De Gea   27                Spain\n",
       "4              K. De Bruyne   27              Belgium\n",
       "5                 E. Hazard   27              Belgium\n",
       "6                 L. Modrić   32              Croatia\n",
       "7                 L. Suárez   31              Uruguay\n",
       "8              Sergio Ramos   32                Spain\n",
       "9                  J. Oblak   25             Slovenia\n",
       "10           R. Lewandowski   29               Poland\n",
       "11                 T. Kroos   28              Germany\n",
       "12                 D. Godín   32              Uruguay\n",
       "13              David Silva   32                Spain\n",
       "14                 N. Kanté   27               France\n",
       "15                P. Dybala   24            Argentina\n",
       "16                  H. Kane   24              England\n",
       "17             A. Griezmann   27               France\n",
       "18            M. ter Stegen   26              Germany\n",
       "19              T. Courtois   26              Belgium\n",
       "20          Sergio Busquets   29                Spain\n",
       "21                E. Cavani   31              Uruguay\n",
       "22                 M. Neuer   32              Germany\n",
       "23                S. Agüero   30            Argentina\n",
       "24             G. Chiellini   33                Italy\n",
       "25                K. Mbappé   19               France\n",
       "26                 M. Salah   26                Egypt\n",
       "27                 Casemiro   26               Brazil\n",
       "28             J. Rodríguez   26             Colombia\n",
       "29               L. Insigne   27                Italy\n",
       "...                     ...  ...                  ...\n",
       "18177             R. Roache   18  Republic of Ireland\n",
       "18178          L. Wahlstedt   18               Sweden\n",
       "18179           J. Williams   17              England\n",
       "18180              M. Hurst   22             Scotland\n",
       "18181              C. Maher   17  Republic of Ireland\n",
       "18182               Y. Góez   18             Colombia\n",
       "18183         K. Pilkington   44              England\n",
       "18184             D. Horton   18              England\n",
       "18185              E. Tweed   19  Republic of Ireland\n",
       "18186          Zhang Yufeng   20             China PR\n",
       "18187             C. Ehlich   19              Germany\n",
       "18188            L. Collins   17                Wales\n",
       "18189            A. Kaltner   18              Germany\n",
       "18190            L. Watkins   18              England\n",
       "18191  J. Norville-Williams   18              England\n",
       "18192             S. Squire   18              England\n",
       "18193            N. Fuentes   18                Chile\n",
       "18194              J. Milli   18                Italy\n",
       "18195            S. Griffin   18  Republic of Ireland\n",
       "18196           K. Fujikawa   19                Japan\n",
       "18197            D. Holland   18  Republic of Ireland\n",
       "18198            J. Livesey   18              England\n",
       "18199          M. Baldisimo   18               Canada\n",
       "18200              J. Young   18             Scotland\n",
       "18201              D. Walsh   18  Republic of Ireland\n",
       "18202          J. Lundstram   19              England\n",
       "18203    N. Christoffersson   19               Sweden\n",
       "18204             B. Worman   16              England\n",
       "18205        D. Walker-Rice   17              England\n",
       "18206             G. Nugent   16              England\n",
       "\n",
       "[18207 rows x 3 columns]"
      ]
     },
     "execution_count": 2,
     "metadata": {},
     "output_type": "execute_result"
    }
   ],
   "source": [
    "import pandas as pd #Menampilkan isi dari file fifa.csv disimpan dalam dataset fifa\n",
    "fifa = pd.read_csv('fifa.csv')\n",
    "fifa"
   ]
  },
  {
   "cell_type": "code",
   "execution_count": 4,
   "metadata": {},
   "outputs": [
    {
     "data": {
      "text/plain": [
       "<matplotlib.axes._subplots.AxesSubplot at 0x7fb6ff3d7208>"
      ]
     },
     "execution_count": 4,
     "metadata": {},
     "output_type": "execute_result"
    },
    {
     "data": {
      "image/png": "[encoded data removed]",
      "text/plain": [
       "<Figure size 432x288 with 1 Axes>"
      ]
     },
     "metadata": {
      "needs_background": "light"
     },
     "output_type": "display_data"
    }
   ],
   "source": [
    "fifa.plot(kind = 'hist',color = 'yellow') #Menampilkan grafik histogram dari atribut umur pada data fifa"
   ]
  },
  {
   "cell_type": "code",
   "execution_count": 5,
   "metadata": {
    "scrolled": false
   },
   "outputs": [
    {
     "data": {
      "text/plain": [
       "<matplotlib.axes._subplots.AxesSubplot at 0x7fb6ff3bc550>"
      ]
     },
     "execution_count": 5,
     "metadata": {},
     "output_type": "execute_result"
    },
    {
     "data": {
      "image/png": "[encoded data removed]",
      "text/plain": [
       "<Figure size 432x288 with 1 Axes>"
      ]
     },
     "metadata": {
      "needs_background": "light"
     },
     "output_type": "display_data"
    }
   ],
   "source": [
    "fifa.plot(kind = 'box',color = 'red')"
   ]
  },
  {
   "cell_type": "code",
   "execution_count": 8,
   "metadata": {
    "scrolled": true
   },
   "outputs": [
    {
     "data": {
      "text/plain": [
       "Name           Óscar Whalley\n",
       "Age                       45\n",
       "Nationality         Zimbabwe\n",
       "dtype: object"
      ]
     },
     "execution_count": 8,
     "metadata": {},
     "output_type": "execute_result"
    }
   ],
   "source": [
    "fifa.max() #Nilai maximum dari dataframe fifa"
   ]
  },
  {
   "cell_type": "code",
   "execution_count": 9,
   "metadata": {
    "scrolled": true
   },
   "outputs": [
    {
     "data": {
      "text/plain": [
       "Name              A. Abang\n",
       "Age                     16\n",
       "Nationality    Afghanistan\n",
       "dtype: object"
      ]
     },
     "execution_count": 9,
     "metadata": {},
     "output_type": "execute_result"
    }
   ],
   "source": [
    "fifa.min() #Nilai minimum dari dataframe fifa"
   ]
  },
  {
   "cell_type": "code",
   "execution_count": 6,
   "metadata": {
    "scrolled": true
   },
   "outputs": [
    {
     "data": {
      "text/plain": [
       "Age    25.122206\n",
       "dtype: float64"
      ]
     },
     "execution_count": 6,
     "metadata": {},
     "output_type": "execute_result"
    }
   ],
   "source": [
    "fifa.mean() #Nilai rata-rata dari dataframe fifa"
   ]
  },
  {
   "cell_type": "code",
   "execution_count": 11,
   "metadata": {
    "scrolled": false
   },
   "outputs": [
    {
     "data": {
      "text/html": [
       "<div>\n",
       "<style scoped>\n",
       "    .dataframe tbody tr th:only-of-type {\n",
       "        vertical-align: middle;\n",
       "    }\n",
       "\n",
       "    .dataframe tbody tr th {\n",
       "        vertical-align: top;\n",
       "    }\n",
       "\n",
       "    .dataframe thead th {\n",
       "        text-align: right;\n",
       "    }\n",
       "</style>\n",
       "<table border=\"1\" class=\"dataframe\">\n",
       "  <thead>\n",
       "    <tr style=\"text-align: right;\">\n",
       "      <th></th>\n",
       "      <th>Age</th>\n",
       "    </tr>\n",
       "  </thead>\n",
       "  <tbody>\n",
       "    <tr>\n",
       "      <th>0</th>\n",
       "      <td>21</td>\n",
       "    </tr>\n",
       "  </tbody>\n",
       "</table>\n",
       "</div>"
      ],
      "text/plain": [
       "   Age\n",
       "0   21"
      ]
     },
     "execution_count": 11,
     "metadata": {},
     "output_type": "execute_result"
    }
   ],
   "source": [
    "fifa.mode(numeric_only = True) #Modus ayng diperleh dari dataframe fifa"
   ]
  },
  {
   "cell_type": "code",
   "execution_count": 19,
   "metadata": {},
   "outputs": [
    {
     "data": {
      "text/plain": [
       "Age    25.0\n",
       "dtype: float64"
      ]
     },
     "execution_count": 19,
     "metadata": {},
     "output_type": "execute_result"
    }
   ],
   "source": [
    "fifa.median() #Nilai Median dari dataframe fifa"
   ]
  },
  {
   "cell_type": "code",
   "execution_count": 20,
   "metadata": {
    "scrolled": true
   },
   "outputs": [
    {
     "data": {
      "text/plain": [
       "Age    21.808365\n",
       "dtype: float64"
      ]
     },
     "execution_count": 20,
     "metadata": {},
     "output_type": "execute_result"
    }
   ],
   "source": [
    "fifa.var() #Nilai variansi dari dataframe fifa"
   ]
  },
  {
   "cell_type": "code",
   "execution_count": 21,
   "metadata": {
    "scrolled": true
   },
   "outputs": [
    {
     "data": {
      "text/plain": [
       "Age    4.669943\n",
       "dtype: float64"
      ]
     },
     "execution_count": 21,
     "metadata": {},
     "output_type": "execute_result"
    }
   ],
   "source": [
    "fifa.std() #Nilai standard deviasi dari dataframe fifa"
   ]
  },
  {
   "cell_type": "code",
   "execution_count": 23,
   "metadata": {
    "scrolled": true
   },
   "outputs": [
    {
     "data": {
      "text/plain": [
       "Age    0.391764\n",
       "dtype: float64"
      ]
     },
     "execution_count": 23,
     "metadata": {},
     "output_type": "execute_result"
    }
   ],
   "source": [
    "fifa.skew() #Mendapatkan nilai skew (karena skew >0 maka skew right)"
   ]
  },
  {
   "cell_type": "code",
   "execution_count": 24,
   "metadata": {
    "scrolled": false
   },
   "outputs": [
    {
     "data": {
      "text/plain": [
       "Age   -0.459514\n",
       "dtype: float64"
      ]
     },
     "execution_count": 24,
     "metadata": {},
     "output_type": "execute_result"
    }
   ],
   "source": [
    "fifa.kurtosis() # Mendapatkan nilai kurtosis"
   ]
  },
  {
   "cell_type": "markdown",
   "metadata": {},
   "source": [
    "#Fungsi ditribusi peluang yang kami pilih pada tugas kali ini adalah distribusi normal. Salah satu pertimbangan yang kami lihat adalah nilai skew = 0.39 yang mendekati nilai 0. Serta gambar histogram yang menyerupai grafik normal\n"
   ]
  },
  {
   "cell_type": "markdown",
   "metadata": {},
   "source": [
    "#Soal 1, Ekspektasi untuk 1000 pemain yang berumur kurang dari 22 tahun, Menggunakan distribusi normal P(X<22)"
   ]
  },
  {
   "cell_type": "code",
   "execution_count": 63,
   "metadata": {},
   "outputs": [],
   "source": [
    "mu = fifa.mean()"
   ]
  },
  {
   "cell_type": "code",
   "execution_count": 64,
   "metadata": {},
   "outputs": [],
   "source": [
    "sigma = fifa.std()"
   ]
  },
  {
   "cell_type": "code",
   "execution_count": 53,
   "metadata": {},
   "outputs": [],
   "source": [
    "x =22"
   ]
  },
  {
   "cell_type": "code",
   "execution_count": 54,
   "metadata": {
    "scrolled": true
   },
   "outputs": [
    {
     "data": {
      "text/plain": [
       "Age   -0.668575\n",
       "dtype: float64"
      ]
     },
     "execution_count": 54,
     "metadata": {},
     "output_type": "execute_result"
    }
   ],
   "source": [
    "z = (x-mu)/sigma\n",
    "z #Hasil transformasi"
   ]
  },
  {
   "cell_type": "code",
   "execution_count": 55,
   "metadata": {},
   "outputs": [
    {
     "data": {
      "text/plain": [
       "254.6"
      ]
     },
     "execution_count": 55,
     "metadata": {},
     "output_type": "execute_result"
    }
   ],
   "source": [
    "#P(X <22) = P(Z<-0.66) = 0.2546 (Dengan tabel normal)\n",
    "p = 0.2546\n",
    "ekspektasi = p*1000\n",
    "ekspektasi"
   ]
  },
  {
   "cell_type": "markdown",
   "metadata": {},
   "source": [
    "#Jadi ekspektasi umur pemain bola yang kurang dari 22 tahun untuk 1000 pemain bola baru adalah sekitar 254 orang\n"
   ]
  },
  {
   "cell_type": "markdown",
   "metadata": {},
   "source": [
    "#Soal 2, Ekspektasi untuk 1000 pemain yang berumur lebih dari 40 tahun, Menggunakan distribusi normal P(X>40)"
   ]
  },
  {
   "cell_type": "code",
   "execution_count": 58,
   "metadata": {},
   "outputs": [],
   "source": [
    "x = 40"
   ]
  },
  {
   "cell_type": "code",
   "execution_count": 59,
   "metadata": {
    "scrolled": true
   },
   "outputs": [
    {
     "data": {
      "text/plain": [
       "Age    3.185862\n",
       "dtype: float64"
      ]
     },
     "execution_count": 59,
     "metadata": {},
     "output_type": "execute_result"
    }
   ],
   "source": [
    "z = (x-mu)/sigma\n",
    "z #Hasil transformasi"
   ]
  },
  {
   "cell_type": "code",
   "execution_count": 65,
   "metadata": {},
   "outputs": [
    {
     "data": {
      "text/plain": [
       "0.7000000000000339"
      ]
     },
     "execution_count": 65,
     "metadata": {},
     "output_type": "execute_result"
    }
   ],
   "source": [
    "#P(X >40) = P(Z>3.18) = 1-0.9993 (Dengan tabel normal)\n",
    "p = 1-0.9993\n",
    "ekspektasi = p*1000\n",
    "ekspektasi"
   ]
  },
  {
   "cell_type": "markdown",
   "metadata": {},
   "source": [
    "#Jadi ekspektasi umur pemain bola yang lebih dari 40 tahun untuk 1000 pemain bola baru adalah 0 orang"
   ]
  },
  {
   "cell_type": "markdown",
   "metadata": {},
   "source": [
    "=============================================================\n",
    "#bagian bawah hanya test"
   ]
  },
  {
   "cell_type": "code",
   "execution_count": null,
   "metadata": {},
   "outputs": [],
   "source": [
    "from scipy import stats"
   ]
  },
  {
   "cell_type": "code",
   "execution_count": 31,
   "metadata": {},
   "outputs": [
    {
     "data": {
      "text/plain": [
       "0.013497741628297016"
      ]
     },
     "execution_count": 31,
     "metadata": {},
     "output_type": "execute_result"
    }
   ],
   "source": [
    "from scipy.stats import norm \n",
    "norm.pdf(10,2,4)"
   ]
  },
  {
   "cell_type": "code",
   "execution_count": 17,
   "metadata": {},
   "outputs": [
    {
     "data": {
      "text/plain": [
       "array([31, 33, 26, 27, 32, 25, 29, 28, 24, 30, 19, 40, 22, 23, 34, 35, 36,\n",
       "       37, 21, 18, 20, 39, 41, 17, 38, 45, 42, 16, 44])"
      ]
     },
     "execution_count": 17,
     "metadata": {},
     "output_type": "execute_result"
    }
   ],
   "source": [
    "fifa['Age'].unique() #Jangan ljupa dihapus"
   ]
  },
  {
   "cell_type": "code",
   "execution_count": 18,
   "metadata": {},
   "outputs": [
    {
     "data": {
      "text/plain": [
       "16      42\n",
       "32     574\n",
       "17     289\n",
       "33     408\n",
       "18     732\n",
       "34     404\n",
       "19    1024\n",
       "35     196\n",
       "20    1240\n",
       "36     127\n",
       "21    1423\n",
       "37      82\n",
       "22    1340\n",
       "38      37\n",
       "23    1332\n",
       "39      25\n",
       "24    1358\n",
       "40      13\n",
       "25    1319\n",
       "41       5\n",
       "26    1387\n",
       "42       1\n",
       "27    1162\n",
       "28    1101\n",
       "44       2\n",
       "29     959\n",
       "45       1\n",
       "30     917\n",
       "31     707\n",
       "dtype: int64"
      ]
     },
     "execution_count": 18,
     "metadata": {},
     "output_type": "execute_result"
    }
   ],
   "source": [
    "pd.value_counts(fifa['Age'].values, sort=False) #Dihapus nanti"
   ]
  }
 ],
 "metadata": {
  "kernelspec": {
   "display_name": "Python 3",
   "language": "python",
   "name": "python3"
  },
  "language_info": {
   "codemirror_mode": {
    "name": "ipython",
    "version": 3
   },
   "file_extension": ".py",
   "mimetype": "text/x-python",
   "name": "python",
   "nbconvert_exporter": "python",
   "pygments_lexer": "ipython3",
   "version": "3.7.3"
  }
 },
 "nbformat": 4,
 "nbformat_minor": 2
}
